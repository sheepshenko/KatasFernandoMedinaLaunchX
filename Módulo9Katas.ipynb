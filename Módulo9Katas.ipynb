{
 "cells": [
  {
   "cell_type": "markdown",
   "metadata": {},
   "source": [
    "## Ejercicio: Uso de funciones en Python\n",
    "\n",
    "Comienza por crear una función que necesite tres lecturas de combustible y devuelva un informe:"
   ]
  },
  {
   "cell_type": "code",
   "execution_count": 1,
   "metadata": {},
   "outputs": [],
   "source": [
    "def combustible(a, b, c):\n",
    "    promedio = (a + b + c)/3\n",
    "    return f\"\"\"Reporte de combustible:\n",
    "    Tanque 1:{a}%\n",
    "    Tanque 2: {b}%\n",
    "    Tanque 3: {c}%\n",
    "    Promedio de combustible: {promedio}\n",
    "    \"\"\""
   ]
  },
  {
   "cell_type": "code",
   "execution_count": 5,
   "metadata": {},
   "outputs": [
    {
     "name": "stdout",
     "output_type": "stream",
     "text": [
      "Reporte de combustible:\n",
      "    Tanque 1:98%\n",
      "    Tanque 2: 69%\n",
      "    Tanque 3: 84%\n",
      "    Promedio de combustible: 83.66666666666667\n",
      "    \n"
     ]
    }
   ],
   "source": [
    "print(combustible(98,69,84))"
   ]
  },
  {
   "cell_type": "code",
   "execution_count": 8,
   "metadata": {},
   "outputs": [
    {
     "name": "stdout",
     "output_type": "stream",
     "text": [
      "Reporte de combustible:\n",
      "    Tanque 1:41%\n",
      "    Tanque 2: 84%\n",
      "    Tanque 3: 98%\n",
      "    Promedio de combustible: 74.33333333333333\n",
      "    \n"
     ]
    }
   ],
   "source": [
    "# Funcion promedio\n",
    "def promedio(tank1, tank2, tank3):\n",
    "    comb_promedio = (tank1 + tank2 + tank3)/3\n",
    "    return comb_promedio\n",
    "\n",
    "def reporte(a, b, c):\n",
    "    prom = promedio(a,b,c)\n",
    "    return f\"\"\"Reporte de combustible:\n",
    "    Tanque 1:{a}%\n",
    "    Tanque 2: {b}%\n",
    "    Tanque 3: {c}%\n",
    "    Promedio de combustible: {prom}\n",
    "    \"\"\"\n",
    "\n",
    "print(reporte(41,84,98))"
   ]
  },
  {
   "cell_type": "markdown",
   "metadata": {},
   "source": [
    "## Ejercicio 2: Trabajo con argumentos de palabra clave\n",
    "\n"
   ]
  },
  {
   "cell_type": "code",
   "execution_count": 9,
   "metadata": {},
   "outputs": [
    {
     "name": "stdout",
     "output_type": "stream",
     "text": [
      "\n",
      "    Misión Destino: Marte\n",
      "    Duracion de viaje: 63 mins\n",
      "    Combustible total:  14981 litros\n",
      "    \n"
     ]
    }
   ],
   "source": [
    "# Función con un informe preciso de la misión. Considera hora de prelanzamiento, tiempo de vuelo, destino, tanque externo y tanque interno\n",
    "\n",
    "def informe_mision(pre_lanzamiento, tiempo_vuelo, destino, tank_interno, tank_externo):\n",
    "    return f\"\"\"\n",
    "    Misión Destino: {destino}\n",
    "    Duracion de viaje: {pre_lanzamiento + tiempo_vuelo} mins\n",
    "    Combustible total:  {tank_externo + tank_interno} litros\n",
    "    \"\"\"\n",
    "\n",
    "print(informe_mision(29, 34, \"Marte\", 8465, 6516))"
   ]
  },
  {
   "cell_type": "code",
   "execution_count": 11,
   "metadata": {},
   "outputs": [
    {
     "name": "stdout",
     "output_type": "stream",
     "text": [
      "\n",
      "    Destino: Venus\n",
      "    Tiempo del viaje: 76 mins\n",
      "    Combustible total: 1083118\n",
      "    \n"
     ]
    }
   ],
   "source": [
    "def informe_mision2(destino, *tiempo, **tankes):\n",
    "    return f\"\"\"\n",
    "    Destino: {destino}\n",
    "    Tiempo del viaje: {sum(tiempo)} mins\n",
    "    Combustible total: {sum(tankes.values())}\n",
    "    \"\"\"\n",
    "\n",
    "print(informe_mision2(\"Venus\", 48,15,35, main=98465, ext=984653))"
   ]
  },
  {
   "cell_type": "code",
   "execution_count": 12,
   "metadata": {},
   "outputs": [
    {
     "name": "stdout",
     "output_type": "stream",
     "text": [
      "\n",
      "    Destino: Venus\n",
      "    Tiempo del viaje: 98 mins\n",
      "    Combustible total: 1083118\n",
      "    main tanque --> 98465 galones sobrantes\n",
      "ext tanque --> 984653 galones sobrantes\n",
      "\n"
     ]
    }
   ],
   "source": [
    "def informe_mision2(destino, *tiempo, **tankes):\n",
    "    reporte = f\"\"\"\n",
    "    Destino: {destino}\n",
    "    Tiempo del viaje: {sum(tiempo)} mins\n",
    "    Combustible total: {sum(tankes.values())}\n",
    "    \"\"\"\n",
    "    for nombre, galon in tankes.items():\n",
    "        reporte += f\"{nombre} tanque --> {galon} galones sobrantes\\n\"\n",
    "    return reporte\n",
    "\n",
    "print(informe_mision2(\"Venus\", 48,15,35, main=98465, ext=984653))"
   ]
  }
 ],
 "metadata": {
  "interpreter": {
   "hash": "b182767ca8cb282528d79129eb7ea1c4d9a34db0b285d8aec1267527e390d7f4"
  },
  "kernelspec": {
   "display_name": "Python 3.10.2 64-bit",
   "language": "python",
   "name": "python3"
  },
  "language_info": {
   "codemirror_mode": {
    "name": "ipython",
    "version": 3
   },
   "file_extension": ".py",
   "mimetype": "text/x-python",
   "name": "python",
   "nbconvert_exporter": "python",
   "pygments_lexer": "ipython3",
   "version": "3.10.2"
  },
  "orig_nbformat": 4
 },
 "nbformat": 4,
 "nbformat_minor": 2
}
